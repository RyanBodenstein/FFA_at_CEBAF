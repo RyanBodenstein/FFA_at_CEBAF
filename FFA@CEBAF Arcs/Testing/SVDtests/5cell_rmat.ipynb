{
 "cells": [
  {
   "cell_type": "code",
   "execution_count": null,
   "metadata": {},
   "outputs": [],
   "source": [
    "# command.py\n",
    "# I'll use this file to turn arrays of numbers\n",
    "# into design offsets in tao\n",
    "\n",
    "# Library imports:\n",
    "\n",
    "# standard imports:\n",
    "import numpy as np\n",
    "from numpy import pi\n",
    "import numpy.linalg as la\n",
    "import numpy.random as rd\n",
    "import secrets\n",
    "\n",
    "import scipy as sp\n",
    "from scipy.integrate import quad\n",
    "import pandas as pd\n",
    "import matplotlib.pyplot as plt\n",
    "\n",
    "# accelerator imports\n",
    "from pytao import Tao\n"
   ]
  },
  {
   "cell_type": "code",
   "execution_count": null,
   "metadata": {},
   "outputs": [],
   "source": [
    "\n",
    "tao = Tao('-init tao.init')\n",
    "\n",
    "# tao.cmd('exit')"
   ]
  },
  {
   "cell_type": "code",
   "execution_count": null,
   "metadata": {},
   "outputs": [],
   "source": [
    "# tao.cmd('exit')\n",
    "tao.cmd('sho var hfld')"
   ]
  },
  {
   "cell_type": "code",
   "execution_count": null,
   "metadata": {},
   "outputs": [],
   "source": [
    "# for u in range(1,7):\n",
    "#     modmat = np.zeros((10,12))\n",
    "#     desmat = np.zeros((10,12))\n",
    "#     tao.cmd('view '+str(u))\n",
    "#     for i in range(10):\n",
    "        \n",
    "#         tao.cmd('set var hfld['+str(3*i+1)+':'+str(3*i+3)+']|model = 0.00001')\n",
    "#         for j in range(1,13):\n",
    "#             if j == 11:\n",
    "#                 modmat[i][j-1] = float(tao.cmd('python data_parameter '+str(u)+'@orbit.xval[77] model_value')[0].lstrip('1;'))\n",
    "#                 desmat[i][j-1] = float(tao.cmd('python data_parameter '+str(u)+'@orbit.xval[77] design_value')[0].lstrip('1;'))\n",
    "#             elif j == 12:\n",
    "#                 modmat[i][j-1] = float(tao.cmd('python data_parameter '+str(u)+'@orbit.xval[78] model_value')[0].lstrip('1;'))\n",
    "#                 desmat[i][j-1] = float(tao.cmd('python data_parameter '+str(u)+'@orbit.xval[78] design_value')[0].lstrip('1;'))\n",
    "#             else:\n",
    "#                 modmat[i][j-1] = float(tao.cmd('python data_parameter '+str(u)+'@orbit.xval['+str(j)+'] model_value')[0].lstrip('1;'))\n",
    "#                 desmat[i][j-1] = float(tao.cmd('python data_parameter '+str(u)+'@orbit.xval['+str(j)+'] design_value')[0].lstrip('1;'))\n",
    "#         tao.cmd('set var hfld['+str(3*i+1)+':'+str(3*i+3)+']|model = 0')\n",
    "        \n",
    "#     Rmat = modmat.T-desmat.T\n",
    "#     np.savetxt('/Users/alexcoxe/My Drive/code/thesis?/FFA@CEBAF tests/SVDtests/SVD Response Matrices/#c=10_x-only/wp'+str(u)+'Rmat_e-5.dat',Rmat)\n",
    "#     U, S, Vh = la.svd(Rmat)\n",
    "#     # print(Rmat)\n",
    "#     np.savetxt('/Users/alexcoxe/My Drive/code/thesis?/FFA@CEBAF tests/SVDtests/SVD Response Matrices/#c=10_x-only/wp'+str(u)+'_svdU_e-5.dat',U)\n",
    "#     np.savetxt('/Users/alexcoxe/My Drive/code/thesis?/FFA@CEBAF tests/SVDtests/SVD Response Matrices/#c=10_x-only/wp'+str(u)+'_svdS_e-5.dat',S)\n",
    "#     np.savetxt('/Users/alexcoxe/My Drive/code/thesis?/FFA@CEBAF tests/SVDtests/SVD Response Matrices/#c=10_x-only/wp'+str(u)+'svdVh_e-5.dat',Vh)\n",
    "#     # print('Universe',u)\n",
    "#     # print(Rmat)\n",
    "#     # print('[U] ='+str(U.shape)+': [S] ='+str(S.shape)+': [Vh] =',str(Vh.shape))\n",
    "#     # print('[(U_S_Vh)] =',usvh.shape)\n"
   ]
  },
  {
   "cell_type": "code",
   "execution_count": null,
   "metadata": {},
   "outputs": [],
   "source": [
    "# I'm gonna test this decomposition on just the first universe\n",
    "\n",
    "modmat = np.zeros((5,5))\n",
    "desmat = np.zeros((5,5))\n",
    "\n",
    "for i in range(5):\n",
    "        \n",
    "    tao.cmd('set var hfld['+str(i+1)+']|model = 1', raises=False)\n",
    "    for j in range(5):\n",
    "        if j == 5:\n",
    "            modmat[i][j] = float(tao.cmd('python data_parameter '+str(1)+'@orbit.xval[77] model_value')[0].lstrip('1;'))\n",
    "            desmat[i][j] = float(tao.cmd('python data_parameter '+str(1)+'@orbit.xval[77] design_value')[0].lstrip('1;'))\n",
    "        elif j == 6:\n",
    "            modmat[i][j] = float(tao.cmd('python data_parameter '+str(1)+'@orbit.xval[78] model_value')[0].lstrip('1;'))\n",
    "            desmat[i][j] = float(tao.cmd('python data_parameter '+str(1)+'@orbit.xval[78] design_value')[0].lstrip('1;'))\n",
    "        else:\n",
    "            modmat[i][j] = float(tao.cmd('python data_parameter '+str(1)+'@orbit.xval['+str(j+1)+'] model_value')[0].lstrip('1;'))\n",
    "            desmat[i][j] = float(tao.cmd('python data_parameter '+str(1)+'@orbit.xval['+str(j+1)+'] design_value')[0].lstrip('1;'))\n",
    "    \n",
    "    tao.cmd('set var hfld['+str(i+1)+']|model = 0', raises=False)\n",
    "        \n",
    "Rmat = (desmat.T-modmat.T)\n",
    "# print(Rmat.shape)\n",
    "U, S, Vh = la.svd(Rmat)\n",
    "    # print('Universe',u)\n",
    "    # print(Rmat)\n",
    "    # print('[U] ='+str(U.shape)+': [S] ='+str(S.shape)+': [Vh] =',str(Vh.shape))\n",
    "    # print('[(U_S_Vh)] =',usvh.shape)\n",
    "print(S)"
   ]
  },
  {
   "cell_type": "code",
   "execution_count": null,
   "metadata": {},
   "outputs": [],
   "source": [
    "xdes = list(map(float,tao.cmd('python data_parameter 1@orbit.xval[1:5] design_value')[0].lstrip('1;').split(';')))\n",
    "# xendval = float(tao.cmd('python data_parameter 1@orbit.xval[77] design_value')[0].lstrip('1;'))\n",
    "# xendtot = float(tao.cmd('python data_parameter 1@orbit.xval[78] design_value')[0].lstrip('1;'))\n",
    "# # print('shape of bpm readings = ',np.shape(xdes))\n",
    "# print(xendval)\n",
    "# print(xendtot,'\\n')\n",
    "# xdes = np.append(xdes,[xendval,xendtot])\n",
    "# print('shape of bpm readings = ',np.shape(xdes))\n",
    "xdes = np.reshape(xdes, (5,1))\n",
    "print(xdes)"
   ]
  },
  {
   "cell_type": "code",
   "execution_count": null,
   "metadata": {},
   "outputs": [],
   "source": [
    "\n",
    "tao.cmd('set ele BFMG##1 x_offset = 0.00005', raises=False)\n",
    "xmod1 = np.reshape(list(map(float,tao.cmd('python data_parameter 1@orbit.xval[1:5] model_value')[0].lstrip('1;').split(';'))),(5,1))\n",
    "# xmod = np.reshape(\n",
    "#     np.append(list(map(float,tao.cmd('python data_parameter 1@orbit.xval[3:10] model_value')[0].lstrip('1;').split(';'))),\n",
    "#           [float(tao.cmd('python data_parameter 1@orbit.xval[77] model_value')[0].lstrip('1;')),\n",
    "#            float(tao.cmd('python data_parameter 1@orbit.xval[78] model_value')[0].lstrip('1;'))]),\n",
    "#            (10,1))\n",
    "dx = xmod1 - xdes\n",
    "print(dx)"
   ]
  },
  {
   "cell_type": "code",
   "execution_count": null,
   "metadata": {},
   "outputs": [],
   "source": [
    "\n",
    "tao.cmd('veto var vfld',raises=False)\n",
    "tao.cmd('veto var b1corr',raises=False)\n"
   ]
  },
  {
   "cell_type": "code",
   "execution_count": null,
   "metadata": {},
   "outputs": [],
   "source": [
    "tao.cmd('run svd', raises=False)"
   ]
  },
  {
   "cell_type": "code",
   "execution_count": null,
   "metadata": {},
   "outputs": [],
   "source": [
    "Sr = np.zeros((5,5))\n",
    "for i in range(len(S)):\n",
    "    if S[i] < np.power(10.,-20): Sr[i][i] = 0\n",
    "    else: Sr[i][i] = 1/S[i]\n",
    "print(np.diagonal(Sr))\n",
    "# print(S)"
   ]
  },
  {
   "cell_type": "code",
   "execution_count": null,
   "metadata": {},
   "outputs": [],
   "source": [
    "dmag=np.reshape(np.dot(np.dot(Vh.T,np.dot(Sr,U.T)),xmod1),(5,1))\n",
    "print(dmag)"
   ]
  },
  {
   "cell_type": "code",
   "execution_count": null,
   "metadata": {},
   "outputs": [],
   "source": [
    "for i in range(5):\n",
    "    if dmag[i] > 0.04:\n",
    "        tao.cmd('set var hfld['+str(i+1)+']|model = '+str(0.04), raises=False)\n",
    "    if dmag[i] < -0.04:\n",
    "        tao.cmd('set var hfld['+str(i+1)+']|model = '+str(-0.04), raises=False)\n",
    "    else:\n",
    "        tao.cmd('set var hfld['+str(i+1)+']|model = '+str(dmag[i]), raises=False)"
   ]
  },
  {
   "cell_type": "code",
   "execution_count": null,
   "metadata": {},
   "outputs": [],
   "source": [
    "xmod2 = np.reshape(list(map(float,tao.cmd('python data_parameter 1@orbit.xval[1:3,77,78] model_value')[0].lstrip('1;').split(';'))),(5,1))\n",
    "# xmod2 = np.reshape(\n",
    "#     np.append(list(map(float,tao.cmd('python data_parameter 1@orbit.xval[3:10] model_value')[0].lstrip('1;').split(';'))),\n",
    "#           [float(tao.cmd('python data_parameter 1@orbit.xval[77] model_value')[0].lstrip('1;')),\n",
    "#            float(tao.cmd('python data_parameter 1@orbit.xval[78] model_value')[0].lstrip('1;'))]),\n",
    "#            (10,1))\n",
    "dx2 = xmod2 - xdes\n",
    "print(dx2)"
   ]
  },
  {
   "cell_type": "code",
   "execution_count": null,
   "metadata": {},
   "outputs": [],
   "source": [
    "fmod=float(tao.cmd('python data_parameter 1@orbit.xval[78] model_value')[0].lstrip('1;'))\n",
    "fdes=float(tao.cmd('python data_parameter 1@orbit.xval[78] design_value')[0].lstrip('1;'))\n",
    "print(180*(fmod-fdes)/pi)"
   ]
  },
  {
   "cell_type": "code",
   "execution_count": null,
   "metadata": {},
   "outputs": [],
   "source": [
    "pm = float(tao.cmd('python data_parameter 1@orbit.pxval[76] model_value')[0].lstrip('1;'))\n",
    "pd = float(tao.cmd('python data_parameter 1@orbit.pxval[76] design_value')[0].lstrip('1;'))\n",
    "\n",
    "# thm = float(tao.cmd('python data_parameter 1@floor.theta model_value')[0].lstrip('1;'))\n",
    "# thd = float(tao.cmd('python data_parameter 1@floor.theta design_value')[0].lstrip('1;'))\n",
    "\n",
    "print('design px =',str(pd)+': model px =',str(pm))\n",
    "# print('design floor.theta =',str(thd)+': model floor.theta =',str(thm))"
   ]
  },
  {
   "cell_type": "code",
   "execution_count": null,
   "metadata": {},
   "outputs": [],
   "source": []
  }
 ],
 "metadata": {
  "kernelspec": {
   "display_name": "dowdy",
   "language": "python",
   "name": "python3"
  },
  "language_info": {
   "codemirror_mode": {
    "name": "ipython",
    "version": 3
   },
   "file_extension": ".py",
   "mimetype": "text/x-python",
   "name": "python",
   "nbconvert_exporter": "python",
   "pygments_lexer": "ipython3",
   "version": "3.10.12"
  },
  "orig_nbformat": 4
 },
 "nbformat": 4,
 "nbformat_minor": 2
}
